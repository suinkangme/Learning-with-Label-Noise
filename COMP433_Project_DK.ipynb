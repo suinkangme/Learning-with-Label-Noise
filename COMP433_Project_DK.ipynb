{
  "nbformat": 4,
  "nbformat_minor": 0,
  "metadata": {
    "colab": {
      "provenance": [],
      "gpuType": "T4",
      "include_colab_link": true
    },
    "kernelspec": {
      "name": "python3",
      "display_name": "Python 3"
    },
    "language_info": {
      "name": "python"
    },
    "accelerator": "GPU"
  },
  "cells": [
    {
      "cell_type": "markdown",
      "metadata": {
        "id": "view-in-github",
        "colab_type": "text"
      },
      "source": [
        "<a href=\"https://colab.research.google.com/github/suinkangme/comp433_project/blob/main/COMP433_Project_DK.ipynb\" target=\"_parent\"><img src=\"https://colab.research.google.com/assets/colab-badge.svg\" alt=\"Open In Colab\"/></a>"
      ]
    },
    {
      "cell_type": "markdown",
      "source": [
        "# Developing a robust CNN model to address the challenge of learning with label noise in  CIFAR10 dataset\n",
        "\n",
        "- CIFAR10 Label : ‘airplane’, ‘automobile’, ‘bird’, ‘cat’, ‘deer’, ‘dog’, ‘frog’, ‘horse’, ‘ship’, ‘truck’.\n",
        "\n",
        "- image size : 3x32x32\n",
        "\n",
        "\n"
      ],
      "metadata": {
        "id": "TyD3ZYpdMfXE"
      }
    },
    {
      "cell_type": "code",
      "source": [
        "import torch\n",
        "import torchvision\n",
        "import torchvision.transforms as transforms\n",
        "import torch.nn as nn\n",
        "import torch.nn.functional as F\n",
        "import torch.optim as optim\n",
        "import numpy as np\n",
        "from torch.utils.data import DataLoader, random_split\n",
        "import os\n",
        "import matplotlib.pyplot as plt\n",
        "from IPython.display import clear_output"
      ],
      "metadata": {
        "id": "ItN3Ur88Mbn1"
      },
      "execution_count": 1,
      "outputs": []
    },
    {
      "cell_type": "code",
      "source": [
        "# Training on GPU\n",
        "device = torch.device('cuda' if torch.cuda.is_available() else 'cpu')"
      ],
      "metadata": {
        "id": "0CEWNvdcTCC1"
      },
      "execution_count": 2,
      "outputs": []
    },
    {
      "cell_type": "markdown",
      "source": [
        "## Load and normalize CIFAR10"
      ],
      "metadata": {
        "id": "gt98-baGNJdN"
      }
    },
    {
      "cell_type": "code",
      "execution_count": 3,
      "metadata": {
        "id": "1rn4qMyOLcgV"
      },
      "outputs": [],
      "source": [
        "transform_train = transforms.Compose([\n",
        "    transforms.RandomResizedCrop(32),\n",
        "    transforms.RandomHorizontalFlip(),\n",
        "    transforms.ToTensor(),\n",
        "    transforms.Normalize(mean=[0.5, 0.5, 0.5], std=[0.5, 0.5, 0.5]),\n",
        "])\n",
        "\n",
        "transform_val = transforms.Compose([\n",
        "    transforms.ToTensor(),\n",
        "    transforms.Normalize((0.5, 0.5, 0.5), (0.5, 0.5, 0.5))\n",
        "])\n",
        "\n",
        "transform_test = transforms.Compose([\n",
        "    transforms.ToTensor(),\n",
        "    transforms.Normalize((0.5, 0.5, 0.5), (0.5, 0.5, 0.5))\n",
        "])\n",
        "\n"
      ]
    },
    {
      "cell_type": "code",
      "source": [
        "# download dataset for training\n",
        "cifar_dataset = torchvision.datasets.CIFAR10(root='./data', train=True, download=True, transform=None)\n",
        "\n",
        "# 데이터를 train과 validation으로 나누기 위해 인덱스 생성\n",
        "dataset_size = len(cifar_dataset)\n",
        "validation_split = 0.2\n",
        "val_size = int(validation_split * dataset_size)\n",
        "train_size = dataset_size - val_size\n",
        "\n",
        "# 데이터를 나누기\n",
        "train_dataset, val_dataset = random_split(cifar_dataset, [train_size, val_size])\n",
        "\n",
        "# 적절한 transform 적용\n",
        "train_dataset.dataset.transform = transform_train\n",
        "val_dataset.dataset.transform = transform_val\n",
        "\n",
        "# 데이터 로더 설정\n",
        "batch_size = 64\n",
        "train_loader = DataLoader(train_dataset, batch_size=batch_size, shuffle=True)\n",
        "val_loader = DataLoader(val_dataset, batch_size=batch_size, shuffle=False)\n"
      ],
      "metadata": {
        "colab": {
          "base_uri": "https://localhost:8080/"
        },
        "id": "umTQUZh9V1xS",
        "outputId": "fdcc9f93-a30b-41fc-f904-065b4ea687ed"
      },
      "execution_count": 4,
      "outputs": [
        {
          "output_type": "stream",
          "name": "stdout",
          "text": [
            "Downloading https://www.cs.toronto.edu/~kriz/cifar-10-python.tar.gz to ./data/cifar-10-python.tar.gz\n"
          ]
        },
        {
          "output_type": "stream",
          "name": "stderr",
          "text": [
            "100%|██████████| 170498071/170498071 [00:11<00:00, 15161843.29it/s]\n"
          ]
        },
        {
          "output_type": "stream",
          "name": "stdout",
          "text": [
            "Extracting ./data/cifar-10-python.tar.gz to ./data\n"
          ]
        }
      ]
    },
    {
      "cell_type": "code",
      "source": [
        "\n",
        "# test dataset\n",
        "test_dataset = torchvision.datasets.CIFAR10(root='./data',\n",
        "                                          train=False,\n",
        "                                          download=True,\n",
        "                                          transform = transform_test)\n",
        "\n",
        "test_loader = DataLoader(test_dataset, batch_size=batch_size, shuffle=False)"
      ],
      "metadata": {
        "colab": {
          "base_uri": "https://localhost:8080/"
        },
        "id": "ce3wRQHnNG9h",
        "outputId": "235ea5b0-5c17-40a0-c98f-96cb7219efaa"
      },
      "execution_count": 5,
      "outputs": [
        {
          "output_type": "stream",
          "name": "stdout",
          "text": [
            "Files already downloaded and verified\n"
          ]
        }
      ]
    },
    {
      "cell_type": "markdown",
      "source": [
        "## Define & train with a  baseline CNN model"
      ],
      "metadata": {
        "id": "6nGN9QRnOfLn"
      }
    },
    {
      "cell_type": "code",
      "source": [
        "class BaselineModel(nn.Module):\n",
        "  def __init__(self):\n",
        "    super(BaselineModel,self).__init__()\n",
        "    self.features = nn.Sequential(\n",
        "      nn.Conv2d(3, 8, kernel_size=3, padding = 1),  # (input channel, output channels, kernel size, padding)  32*32*8\n",
        "      nn.ReLU(inplace=True), # activation function modifies the input tensor directly\n",
        "      nn.Conv2d(8, 16, kernel_size=3, padding=1),\n",
        "      nn.ReLU(inplace=True),\n",
        "      nn.MaxPool2d(kernel_size=2,stride=2), # 16*16*16\n",
        "\n",
        "      nn.Conv2d(16, 32, kernel_size=3, padding=1),\n",
        "      nn.ReLU(inplace=True),\n",
        "      nn.Conv2d(32, 64, kernel_size=3, padding=1),\n",
        "      nn.ReLU(inplace=True),\n",
        "      nn.Conv2d(64, 128, kernel_size=3, padding=1),\n",
        "      nn.MaxPool2d(kernel_size=2,stride=2) # 8*8*128\n",
        "    )\n",
        "\n",
        "    # fully connected layers\n",
        "    self.fc_layers = nn.Sequential(\n",
        "      nn.Linear(128*8*8, 120),\n",
        "      nn.ReLU(inplace=True),\n",
        "      nn.Linear(120,84),\n",
        "      nn.ReLU(inplace=True),\n",
        "      nn.Linear(84,10)\n",
        "    )\n",
        "\n",
        "\n",
        "  def forward(self, x):\n",
        "    x = self.features(x)\n",
        "    x = torch.flatten(x,1)\n",
        "    x = self.fc_layers(x)\n",
        "    return x\n",
        "\n",
        ""
      ],
      "metadata": {
        "id": "dOrsrTZ9M7wM"
      },
      "execution_count": 6,
      "outputs": []
    },
    {
      "cell_type": "code",
      "source": [
        "base_model = BaselineModel().to(device)\n",
        "criterion = nn.CrossEntropyLoss()\n",
        "optimizer = optim.SGD(base_model.parameters(), lr=0.01, momentum=0.9)\n"
      ],
      "metadata": {
        "id": "sIhU5JCnOx6R"
      },
      "execution_count": 7,
      "outputs": []
    },
    {
      "cell_type": "code",
      "source": [
        "base_model.train()\n",
        "num_epochs = 10\n",
        "\n",
        "for epoch in range(num_epochs):\n",
        "    # Training\n",
        "    base_model.train()\n",
        "    total_train_loss = 0.0\n",
        "    correct_train = 0\n",
        "    total_train = 0\n",
        "\n",
        "    for inputs, labels in train_loader:\n",
        "        # Move data to GPU\n",
        "        inputs, labels = inputs.to(device), labels.to(device)\n",
        "\n",
        "        # Zero the gradients\n",
        "        optimizer.zero_grad()\n",
        "\n",
        "        # Forward pass\n",
        "        outputs = base_model(inputs)\n",
        "        loss = criterion(outputs, labels)\n",
        "\n",
        "        # Backward pass and optimization\n",
        "        loss.backward()\n",
        "        optimizer.step()\n",
        "\n",
        "        total_train_loss += loss.item()\n",
        "        _, predicted = torch.max(outputs.data, 1)\n",
        "        total_train += labels.size(0)\n",
        "        correct_train += (predicted == labels).sum().item()\n",
        "\n",
        "    average_train_loss = total_train_loss / len(train_loader)\n",
        "    train_acc = 100 * correct_train / total_train\n",
        "\n",
        "    # Validation\n",
        "    base_model.eval()\n",
        "    total_val_loss = 0.0\n",
        "    correct_val = 0\n",
        "    total_val = 0\n",
        "\n",
        "    with torch.no_grad():\n",
        "        for inputs, labels in val_loader:\n",
        "            # Move data to GPU\n",
        "            inputs, labels = inputs.to(device), labels.to(device)\n",
        "\n",
        "            # Forward pass\n",
        "            outputs = base_model(inputs)\n",
        "            loss = criterion(outputs, labels)\n",
        "\n",
        "            total_val_loss += loss.item()\n",
        "            _, predicted = torch.max(outputs.data, 1)\n",
        "            total_val += labels.size(0)\n",
        "            correct_val += (predicted == labels).sum().item()\n",
        "\n",
        "    average_val_loss = total_val_loss / len(val_loader)\n",
        "    val_acc = 100 * correct_val / total_val\n",
        "\n",
        "    print(f'Epoch {epoch + 1}/{num_epochs}, '\n",
        "          f'Train Loss: {average_train_loss:.4f}, Train Accuracy: {train_acc:.2f}%, '\n",
        "          f'Validation Loss: {average_val_loss:.4f}, Validation Accuracy: {val_acc:.2f}')\n"
      ],
      "metadata": {
        "id": "rZc3RsSbO2Qt",
        "colab": {
          "base_uri": "https://localhost:8080/"
        },
        "outputId": "5f541e59-1cfd-4683-ac89-a9f602150c1d"
      },
      "execution_count": 8,
      "outputs": [
        {
          "output_type": "stream",
          "name": "stdout",
          "text": [
            "Epoch 1/10, Train Loss: 2.2501, Train Accuracy: 13.57%, Validation Loss: 1.9609, Validation Accuracy: 27.48\n",
            "Epoch 2/10, Train Loss: 1.6230, Train Accuracy: 40.83%, Validation Loss: 1.4169, Validation Accuracy: 49.18\n",
            "Epoch 3/10, Train Loss: 1.3080, Train Accuracy: 52.53%, Validation Loss: 1.2174, Validation Accuracy: 56.83\n",
            "Epoch 4/10, Train Loss: 1.0915, Train Accuracy: 61.21%, Validation Loss: 1.0687, Validation Accuracy: 62.21\n",
            "Epoch 5/10, Train Loss: 0.9044, Train Accuracy: 68.29%, Validation Loss: 0.9325, Validation Accuracy: 67.33\n",
            "Epoch 6/10, Train Loss: 0.7715, Train Accuracy: 72.79%, Validation Loss: 0.8748, Validation Accuracy: 69.96\n",
            "Epoch 7/10, Train Loss: 0.6470, Train Accuracy: 77.31%, Validation Loss: 0.8478, Validation Accuracy: 71.18\n",
            "Epoch 8/10, Train Loss: 0.5414, Train Accuracy: 80.71%, Validation Loss: 0.8848, Validation Accuracy: 70.91\n",
            "Epoch 9/10, Train Loss: 0.4312, Train Accuracy: 84.79%, Validation Loss: 0.9436, Validation Accuracy: 71.29\n",
            "Epoch 10/10, Train Loss: 0.3487, Train Accuracy: 87.78%, Validation Loss: 0.9973, Validation Accuracy: 71.25\n"
          ]
        }
      ]
    },
    {
      "cell_type": "code",
      "source": [
        "# testing\n",
        "base_model.eval()\n",
        "\n",
        "# Variables to store predictions and ground truth labels\n",
        "num_correct_predictions = 0\n",
        "total_num_predictions = 0\n",
        "test_loss = 0.0\n",
        "\n",
        "# Iterate over the test dataset\n",
        "with torch.no_grad():  # temporarily set all requires_grad flags to False\n",
        "    for inputs, labels in test_loader:\n",
        "        # Move data to GPU\n",
        "        inputs, labels = inputs.to(device), labels.to(device)\n",
        "\n",
        "        # Forward pass\n",
        "        outputs = base_model(inputs)\n",
        "        loss = criterion(outputs, labels)\n",
        "\n",
        "        # Compute loss and number of accurate predictions\n",
        "        test_loss += loss.item()\n",
        "        preds = outputs.argmax(dim=1)\n",
        "        num_correct_predictions += (preds == labels).sum().item()\n",
        "        total_num_predictions += labels.size(0)\n",
        "\n",
        "# Compute average test loss\n",
        "average_test_loss = test_loss / len(test_loader.dataset)\n",
        "\n",
        "# Compute accuracy percentage\n",
        "accuracy = (num_correct_predictions / total_num_predictions) * 100\n",
        "\n",
        "print(f\"Test Accuracy: {accuracy:.2f}%, Average Test Loss: {average_test_loss:.4f}\")\n"
      ],
      "metadata": {
        "colab": {
          "base_uri": "https://localhost:8080/"
        },
        "id": "nnhiYGcF2kG7",
        "outputId": "4bb8c511-9832-4bcb-fe21-e3f17ef088a5"
      },
      "execution_count": 9,
      "outputs": [
        {
          "output_type": "stream",
          "name": "stdout",
          "text": [
            "Test Accuracy: 71.48%, Average Test Loss: 0.0155\n"
          ]
        }
      ]
    },
    {
      "cell_type": "markdown",
      "source": [
        "## Noise Labeling\n",
        "- 5 different noise levels (10%,\n",
        "30%, 50%, 80%, 90%)"
      ],
      "metadata": {
        "id": "-U2PfzQbqjq_"
      }
    },
    {
      "cell_type": "markdown",
      "source": [
        "### Symmetric label noise"
      ],
      "metadata": {
        "id": "xBci2_LerBLe"
      }
    },
    {
      "cell_type": "code",
      "source": [
        "def replace_symmetric_noise(labels, epsilon):\n",
        "    num_labels = len(labels)\n",
        "    num_flips = int(epsilon * num_labels)\n",
        "\n",
        "    # choose the label to be flipped\n",
        "    flip_indices = np.random.choice(num_labels, num_flips, replace=True)\n",
        "\n",
        "    # filp the label\n",
        "    labels[flip_indices] = np.random.randint(0, 10, num_flips)\n",
        "\n",
        "    return labels"
      ],
      "metadata": {
        "id": "oFdDk4NVq7bt"
      },
      "execution_count": 10,
      "outputs": []
    },
    {
      "cell_type": "markdown",
      "source": [
        "### Asymmetric label noise"
      ],
      "metadata": {
        "id": "9QPh92lorDFp"
      }
    },
    {
      "cell_type": "code",
      "source": [
        "def flip_labels_asymmetrically(labels, epsilon):\n",
        "    flip_rules = {\n",
        "        9: 1,   # Truck to Automobile\n",
        "        2: 0,   # Bird to Airplane\n",
        "        4: 7,   # Deer to Horse\n",
        "        3: 5,   # Cat to Dog\n",
        "        5: 3,   # Dog to Cat\n",
        "    }\n",
        "\n",
        "    flipped_labels = []\n",
        "    for label in labels:\n",
        "        # Check if label flipping should occur based on epsilon\n",
        "        if np.random.random() < epsilon:\n",
        "            # Flip the label based on the flip_rules dictionary\n",
        "            flipped_label = flip_rules.get(label, label)\n",
        "            flipped_labels.append(flipped_label)\n",
        "        else:\n",
        "            # If no flipping, keep the original label\n",
        "            flipped_labels.append(label)\n",
        "\n",
        "    return np.array(flipped_labels)\n"
      ],
      "metadata": {
        "id": "9JbGzoKTq7f4"
      },
      "execution_count": 11,
      "outputs": []
    },
    {
      "cell_type": "markdown",
      "source": [
        "## Train the model with the noise labeling"
      ],
      "metadata": {
        "id": "FCwqkc3bPFcG"
      }
    },
    {
      "cell_type": "markdown",
      "source": [
        "### Train with the symmetric noise labeling"
      ],
      "metadata": {
        "id": "5V9Glhks0h9G"
      }
    },
    {
      "cell_type": "code",
      "source": [
        "# noise_levels\n",
        "noise_levels = [0.1, 0.3, 0.5, 0.8, 0.9]\n",
        "\n",
        "# Create a dictionary with keys in the format 'noise_level_{100 * value}'\n",
        "symmetric_model_dict = {f'noise_level_{int(100 * level)}_sy': None for level in noise_levels}\n",
        "\n",
        "for epsilon in noise_levels:\n",
        "\n",
        "    net = BaselineModel()\n",
        "    criterion = nn.CrossEntropyLoss()\n",
        "    optimizer = optim.SGD(net.parameters(), lr=0.01, momentum=0.9)\n",
        "\n",
        "    net = net.to(device)\n",
        "    net.train()\n",
        "    num_epochs = 5\n",
        "\n",
        "    print(f\"Symmetric Training with noise level: {epsilon}\")\n",
        "\n",
        "    for epoch in range(num_epochs):\n",
        "        # Training\n",
        "        net.train()\n",
        "        total_train_loss = 0.0\n",
        "        correct_train = 0\n",
        "        total_train = 0\n",
        "\n",
        "        for inputs, labels in train_loader:\n",
        "\n",
        "            labels_noisy = torch.from_numpy(replace_symmetric_noise(labels.numpy(), epsilon))\n",
        "\n",
        "            # Move data to GPU\n",
        "            inputs, labels_noisy = inputs.to(device), labels_noisy.to(device)\n",
        "\n",
        "            # Zero the gradients\n",
        "            optimizer.zero_grad()\n",
        "\n",
        "            # Forward pass\n",
        "            outputs = net(inputs)\n",
        "            loss = criterion(outputs, labels_noisy)\n",
        "\n",
        "            # Backward pass and optimization\n",
        "            loss.backward()\n",
        "            optimizer.step()\n",
        "\n",
        "            total_train_loss += loss.item()\n",
        "            _, predicted = torch.max(outputs.data, 1)\n",
        "            total_train += labels_noisy.size(0)\n",
        "            correct_train += (predicted == labels_noisy).sum().item()\n",
        "\n",
        "        average_train_loss = total_train_loss / len(train_loader)\n",
        "        train_acc = 100 * correct_train / total_train\n",
        "\n",
        "        # Validation\n",
        "        net.eval()\n",
        "        total_val_loss = 0.0\n",
        "        correct_val = 0\n",
        "        total_val = 0\n",
        "\n",
        "        with torch.no_grad():\n",
        "            for inputs, labels in val_loader:\n",
        "                # Move data to GPU\n",
        "                inputs, labels = inputs.to(device), labels.to(device)\n",
        "\n",
        "                # Forward pass\n",
        "                outputs = net(inputs)\n",
        "                loss = criterion(outputs, labels)\n",
        "\n",
        "                total_val_loss += loss.item()\n",
        "                _, predicted = torch.max(outputs.data, 1)\n",
        "                total_val += labels.size(0)\n",
        "                correct_val += (predicted == labels).sum().item()\n",
        "\n",
        "        average_val_loss = total_val_loss / len(val_loader)\n",
        "        val_acc = 100 * correct_val / total_val\n",
        "\n",
        "        print(f'Epoch {epoch + 1}/{num_epochs}, '\n",
        "              f'Train Loss: {average_train_loss:.4f}, Train Accuracy: {train_acc:.2f}%, '\n",
        "              f'Validation Loss: {average_val_loss:.4f}, Validation Accuracy: {val_acc:.2f}')\n",
        "\n",
        "    # save model to dictionary\n",
        "    symmetric_model_dict[f'noise_level_{int(100 * epsilon)}_sy'] = net.state_dict()\n"
      ],
      "metadata": {
        "colab": {
          "base_uri": "https://localhost:8080/"
        },
        "id": "TGlDJFFYZrD0",
        "outputId": "df94f4a4-2c2a-423f-e27a-910e386dd5b3"
      },
      "execution_count": 17,
      "outputs": [
        {
          "output_type": "stream",
          "name": "stdout",
          "text": [
            "Symmetric Training with noise level: 0.1\n",
            "Epoch 1/5, Train Loss: 2.2945, Train Accuracy: 11.25%, Validation Loss: 2.1260, Validation Accuracy: 19.02\n",
            "Epoch 2/5, Train Loss: 1.9610, Train Accuracy: 29.36%, Validation Loss: 1.6650, Validation Accuracy: 40.47\n",
            "Epoch 3/5, Train Loss: 1.6835, Train Accuracy: 41.77%, Validation Loss: 1.4254, Validation Accuracy: 49.27\n",
            "Epoch 4/5, Train Loss: 1.4591, Train Accuracy: 51.70%, Validation Loss: 1.1841, Validation Accuracy: 58.77\n",
            "Epoch 5/5, Train Loss: 1.3067, Train Accuracy: 58.09%, Validation Loss: 1.1220, Validation Accuracy: 62.66\n",
            "Symmetric Training with noise level: 0.3\n",
            "Epoch 1/5, Train Loss: 2.3023, Train Accuracy: 10.61%, Validation Loss: 2.2906, Validation Accuracy: 13.43\n",
            "Epoch 2/5, Train Loss: 2.1362, Train Accuracy: 22.50%, Validation Loss: 1.8132, Validation Accuracy: 35.86\n",
            "Epoch 3/5, Train Loss: 1.9476, Train Accuracy: 33.48%, Validation Loss: 1.6303, Validation Accuracy: 45.66\n",
            "Epoch 4/5, Train Loss: 1.8383, Train Accuracy: 38.94%, Validation Loss: 1.4327, Validation Accuracy: 51.92\n",
            "Epoch 5/5, Train Loss: 1.7590, Train Accuracy: 43.33%, Validation Loss: 1.3421, Validation Accuracy: 56.12\n",
            "Symmetric Training with noise level: 0.5\n",
            "Epoch 1/5, Train Loss: 2.2991, Train Accuracy: 10.94%, Validation Loss: 2.2080, Validation Accuracy: 20.18\n",
            "Epoch 2/5, Train Loss: 2.1944, Train Accuracy: 20.89%, Validation Loss: 1.9270, Validation Accuracy: 33.34\n",
            "Epoch 3/5, Train Loss: 2.0944, Train Accuracy: 26.75%, Validation Loss: 1.7055, Validation Accuracy: 42.93\n",
            "Epoch 4/5, Train Loss: 2.0171, Train Accuracy: 31.64%, Validation Loss: 1.5930, Validation Accuracy: 48.63\n",
            "Epoch 5/5, Train Loss: 1.9638, Train Accuracy: 35.12%, Validation Loss: 1.5059, Validation Accuracy: 54.05\n",
            "Symmetric Training with noise level: 0.8\n",
            "Epoch 1/5, Train Loss: 2.3032, Train Accuracy: 9.88%, Validation Loss: 2.3017, Validation Accuracy: 10.18\n",
            "Epoch 2/5, Train Loss: 2.2804, Train Accuracy: 13.39%, Validation Loss: 2.1138, Validation Accuracy: 22.58\n",
            "Epoch 3/5, Train Loss: 2.2345, Train Accuracy: 17.80%, Validation Loss: 1.9910, Validation Accuracy: 33.62\n",
            "Epoch 4/5, Train Loss: 2.2037, Train Accuracy: 20.77%, Validation Loss: 1.8963, Validation Accuracy: 37.66\n",
            "Epoch 5/5, Train Loss: 2.1717, Train Accuracy: 23.71%, Validation Loss: 1.7904, Validation Accuracy: 44.80\n",
            "Symmetric Training with noise level: 0.9\n",
            "Epoch 1/5, Train Loss: 2.3031, Train Accuracy: 9.94%, Validation Loss: 2.3017, Validation Accuracy: 9.69\n",
            "Epoch 2/5, Train Loss: 2.2832, Train Accuracy: 13.28%, Validation Loss: 2.1199, Validation Accuracy: 25.88\n",
            "Epoch 3/5, Train Loss: 2.2523, Train Accuracy: 16.69%, Validation Loss: 2.0719, Validation Accuracy: 28.90\n",
            "Epoch 4/5, Train Loss: 2.2336, Train Accuracy: 18.64%, Validation Loss: 2.0269, Validation Accuracy: 35.06\n",
            "Epoch 5/5, Train Loss: 2.2131, Train Accuracy: 20.61%, Validation Loss: 1.9546, Validation Accuracy: 37.61\n"
          ]
        }
      ]
    },
    {
      "cell_type": "markdown",
      "source": [
        "### Testing"
      ],
      "metadata": {
        "id": "5yXcz4Ye8fdB"
      }
    },
    {
      "cell_type": "code",
      "source": [
        "for key, net in symmetric_model_dict.items():\n",
        "    net.eval()\n",
        "    net.to(device)\n",
        "\n",
        "    # Variables to store predictions and ground truth labels\n",
        "    num_correct_predictions = 0\n",
        "    total_num_predictions = 0\n",
        "    loss = 0.0\n",
        "\n",
        "    # Iterate over the test dataset\n",
        "    with torch.no_grad():  # temporarily set all requires_grad flags to False\n",
        "        for i, (data, label) in enumerate(test_loader):\n",
        "            # move inputs to desired device and dtype\n",
        "            data = data.to(device, dtype=torch.float32)\n",
        "            label = label.to(device, dtype=torch.long)\n",
        "\n",
        "            # forward pass\n",
        "            logit = net(data)\n",
        "\n",
        "            # compute loss and number of accurate predictions\n",
        "            loss += torch.nn.functional.cross_entropy(logit, label, reduction='sum').item()\n",
        "            preds = logit.max(dim=1)[1]\n",
        "            num_correct_predictions += (preds == label).sum().item()\n",
        "            total_num_predictions += len(preds)\n",
        "\n",
        "        # compute average loss\n",
        "        loss /= total_num_predictions\n",
        "\n",
        "        # compute accuracy percentage\n",
        "        accuracy = (float(num_correct_predictions) / total_num_predictions) * 100\n",
        "\n",
        "        print(f\"Symmetric {key} Accuracy: {accuracy:.2f}%, Loss: {loss:.4f}\")\n"
      ],
      "metadata": {
        "id": "z0ax5iBOPY_A",
        "colab": {
          "base_uri": "https://localhost:8080/"
        },
        "outputId": "11969166-93c8-4037-ca0d-15d3876c1858"
      },
      "execution_count": 18,
      "outputs": [
        {
          "output_type": "stream",
          "name": "stdout",
          "text": [
            "Symmetric noise_level_10_sy Accuracy: 62.65%, Loss: 1.1171\n",
            "Symmetric noise_level_30_sy Accuracy: 56.49%, Loss: 1.3367\n",
            "Symmetric noise_level_50_sy Accuracy: 53.56%, Loss: 1.5025\n",
            "Symmetric noise_level_80_sy Accuracy: 45.13%, Loss: 1.7819\n",
            "Symmetric noise_level_90_sy Accuracy: 37.29%, Loss: 1.9551\n"
          ]
        }
      ]
    },
    {
      "cell_type": "markdown",
      "source": [
        "### Train with the asymmetric noise labeling"
      ],
      "metadata": {
        "id": "8N3-1RaLih-J"
      }
    },
    {
      "cell_type": "code",
      "source": [
        "# noise_levels\n",
        "noise_levels = [0.1, 0.3, 0.5, 0.8, 0.9]\n",
        "# Create a dictionary with keys in the format 'noise_level_{100 * value}'\n",
        "asymmetric_model_dict = {f'noise_level_{int(100 * level)}_asy': None for level in noise_levels}\n",
        "\n",
        "\n",
        "\n",
        "# Training on GPU\n",
        "device = torch.device('cuda' if torch.cuda.is_available() else 'cpu')\n",
        "\n",
        "for epsilon in noise_levels:\n",
        "\n",
        "\n",
        "    net = BaselineModel()\n",
        "    criterion = nn.CrossEntropyLoss()\n",
        "    optimizer = optim.SGD(net.parameters(), lr=0.01, momentum = 0.9)\n",
        "\n",
        "\n",
        "    net = net.to(device)\n",
        "    net.train()\n",
        "    num_epochs = 5\n",
        "\n",
        "\n",
        "    print(f\"Asymmetric Training with noise level: {epsilon}\")\n",
        "\n",
        "    for epoch in range(num_epochs):\n",
        "      # Training\n",
        "      net.train()\n",
        "      total_train_loss = 0.0\n",
        "      correct_train = 0\n",
        "      total_train = 0\n",
        "\n",
        "      for inputs, labels in train_loader:\n",
        "          labels_noisy = torch.from_numpy(flip_labels_asymmetrically(labels.numpy(), epsilon))\n",
        "          # Move data to GPU\n",
        "          inputs, labels_noisy = inputs.to(device), labels_noisy.to(device)\n",
        "\n",
        "          # Zero the gradients\n",
        "          optimizer.zero_grad()\n",
        "\n",
        "          # Forward pass\n",
        "          outputs = net(inputs)\n",
        "          loss = criterion(outputs, labels_noisy)\n",
        "\n",
        "          # Backward pass and optimization\n",
        "          loss.backward()\n",
        "          optimizer.step()\n",
        "\n",
        "          total_train_loss += loss.item()\n",
        "          _, predicted = torch.max(outputs.data, 1)\n",
        "          total_train += labels_noisy.size(0)\n",
        "          correct_train += (predicted == labels_noisy).sum().item()\n",
        "\n",
        "      average_train_loss = total_train_loss / len(train_loader)\n",
        "      train_acc = 100 * correct_train / total_train\n",
        "\n",
        "      # Validation\n",
        "      net.eval()\n",
        "      total_val_loss = 0.0\n",
        "      correct_val = 0\n",
        "      total_val = 0\n",
        "\n",
        "      with torch.no_grad():\n",
        "          for inputs, labels in val_loader:\n",
        "              # Move data to GPU\n",
        "              inputs, labels = inputs.to(device), labels.to(device)\n",
        "\n",
        "              # Forward pass\n",
        "              outputs = net(inputs)\n",
        "              loss = criterion(outputs, labels)\n",
        "\n",
        "              total_val_loss += loss.item()\n",
        "              _, predicted = torch.max(outputs.data, 1)\n",
        "              total_val += labels.size(0)\n",
        "              correct_val += (predicted == labels).sum().item()\n",
        "\n",
        "      average_val_loss = total_val_loss / len(val_loader)\n",
        "      val_acc = 100 * correct_val / total_val\n",
        "\n",
        "      print(f'Epoch {epoch + 1}/{num_epochs}, '\n",
        "            f'Train Loss: {average_train_loss:.4f}, Train Accuracy: {train_acc:.2f}%, '\n",
        "            f'Validation Loss: {average_val_loss:.4f}, Validation Accuracy: {val_acc:.2f}')\n",
        "    # save model to dictionary\n",
        "    asymmetric_model_dict[f'noise_level_{int(100 * epsilon)}_asy'] = net\n"
      ],
      "metadata": {
        "id": "zRiBGV6bPf6n",
        "colab": {
          "base_uri": "https://localhost:8080/"
        },
        "outputId": "ea0871d1-7119-4c51-8659-aa80c5d119df"
      },
      "execution_count": 19,
      "outputs": [
        {
          "output_type": "stream",
          "name": "stdout",
          "text": [
            "Asymmetric Training with noise level: 0.1\n",
            "Epoch 1/5, Train Loss: 2.0232, Train Accuracy: 25.34%, Validation Loss: 1.6327, Validation Accuracy: 40.01\n",
            "Epoch 2/5, Train Loss: 1.4802, Train Accuracy: 46.39%, Validation Loss: 1.2802, Validation Accuracy: 54.41\n",
            "Epoch 3/5, Train Loss: 1.2199, Train Accuracy: 56.32%, Validation Loss: 1.1469, Validation Accuracy: 59.44\n",
            "Epoch 4/5, Train Loss: 1.0553, Train Accuracy: 62.59%, Validation Loss: 1.0076, Validation Accuracy: 64.83\n",
            "Epoch 5/5, Train Loss: 0.9254, Train Accuracy: 67.21%, Validation Loss: 0.9439, Validation Accuracy: 67.37\n",
            "Asymmetric Training with noise level: 0.3\n",
            "Epoch 1/5, Train Loss: 2.2781, Train Accuracy: 12.77%, Validation Loss: 2.3278, Validation Accuracy: 9.69\n",
            "Epoch 2/5, Train Loss: 2.2353, Train Accuracy: 16.44%, Validation Loss: 2.0827, Validation Accuracy: 23.93\n",
            "Epoch 3/5, Train Loss: 1.7016, Train Accuracy: 37.41%, Validation Loss: 1.5893, Validation Accuracy: 40.34\n",
            "Epoch 4/5, Train Loss: 1.4609, Train Accuracy: 45.48%, Validation Loss: 1.3513, Validation Accuracy: 50.66\n",
            "Epoch 5/5, Train Loss: 1.2619, Train Accuracy: 52.86%, Validation Loss: 1.1776, Validation Accuracy: 57.35\n",
            "Asymmetric Training with noise level: 0.5\n",
            "Epoch 1/5, Train Loss: 2.2291, Train Accuracy: 15.20%, Validation Loss: 2.3900, Validation Accuracy: 9.69\n",
            "Epoch 2/5, Train Loss: 1.9386, Train Accuracy: 29.75%, Validation Loss: 1.7195, Validation Accuracy: 36.34\n",
            "Epoch 3/5, Train Loss: 1.4639, Train Accuracy: 46.09%, Validation Loss: 1.4755, Validation Accuracy: 42.22\n",
            "Epoch 4/5, Train Loss: 1.2507, Train Accuracy: 53.08%, Validation Loss: 1.2338, Validation Accuracy: 51.17\n",
            "Epoch 5/5, Train Loss: 1.1006, Train Accuracy: 57.03%, Validation Loss: 1.1045, Validation Accuracy: 56.11\n",
            "Asymmetric Training with noise level: 0.8\n",
            "Epoch 1/5, Train Loss: 1.9671, Train Accuracy: 25.11%, Validation Loss: 2.2704, Validation Accuracy: 27.47\n",
            "Epoch 2/5, Train Loss: 1.5220, Train Accuracy: 45.22%, Validation Loss: 1.8202, Validation Accuracy: 35.82\n",
            "Epoch 3/5, Train Loss: 1.2598, Train Accuracy: 55.25%, Validation Loss: 1.6970, Validation Accuracy: 43.00\n",
            "Epoch 4/5, Train Loss: 1.0964, Train Accuracy: 61.12%, Validation Loss: 1.6106, Validation Accuracy: 42.37\n",
            "Epoch 5/5, Train Loss: 0.9904, Train Accuracy: 65.03%, Validation Loss: 1.4521, Validation Accuracy: 44.63\n",
            "Asymmetric Training with noise level: 0.9\n",
            "Epoch 1/5, Train Loss: 1.8860, Train Accuracy: 27.66%, Validation Loss: 2.3646, Validation Accuracy: 29.43\n",
            "Epoch 2/5, Train Loss: 1.4032, Train Accuracy: 48.50%, Validation Loss: 2.1264, Validation Accuracy: 36.20\n",
            "Epoch 3/5, Train Loss: 1.1965, Train Accuracy: 57.03%, Validation Loss: 1.8449, Validation Accuracy: 41.29\n",
            "Epoch 4/5, Train Loss: 1.0128, Train Accuracy: 64.31%, Validation Loss: 1.8225, Validation Accuracy: 43.94\n",
            "Epoch 5/5, Train Loss: 0.8783, Train Accuracy: 69.51%, Validation Loss: 1.7634, Validation Accuracy: 43.14\n"
          ]
        }
      ]
    },
    {
      "cell_type": "markdown",
      "source": [
        "### Testing"
      ],
      "metadata": {
        "id": "FD4NBMyA8X4M"
      }
    },
    {
      "cell_type": "code",
      "source": [
        "for key, net in asymmetric_model_dict.items():\n",
        "    net.eval()\n",
        "    net.to(device)\n",
        "\n",
        "    # Variables to store predictions and ground truth labels\n",
        "    num_correct_predictions = 0\n",
        "    total_num_predictions = 0\n",
        "    loss = 0.0\n",
        "\n",
        "    # Iterate over the test dataset\n",
        "    with torch.no_grad():  # temporarily set all requires_grad flags to False\n",
        "        for i, (data, label) in enumerate(test_loader):\n",
        "            # move inputs to desired device and dtype\n",
        "            data = data.to(device, dtype=torch.float32)\n",
        "            label = label.to(device, dtype=torch.long)\n",
        "\n",
        "            # forward pass\n",
        "            logit = net(data)\n",
        "\n",
        "            # compute loss and number of accurate predictions\n",
        "            loss += torch.nn.functional.cross_entropy(logit, label, reduction='sum').item()\n",
        "            preds = logit.max(dim=1)[1]\n",
        "            num_correct_predictions += (preds == label).sum().item()\n",
        "            total_num_predictions += len(preds)\n",
        "\n",
        "        # compute average loss\n",
        "        loss /= total_num_predictions\n",
        "\n",
        "        # compute accuracy percentage\n",
        "        accuracy = (float(num_correct_predictions) / total_num_predictions) * 100\n",
        "\n",
        "        print(f\"Asymmetric {key} Accuracy: {accuracy:.2f}%, Loss: {loss:.4f}\")"
      ],
      "metadata": {
        "id": "PkWK7f63Pf8w",
        "colab": {
          "base_uri": "https://localhost:8080/"
        },
        "outputId": "5b6c6992-0b29-4e1c-cf90-de7e59f220a8"
      },
      "execution_count": 20,
      "outputs": [
        {
          "output_type": "stream",
          "name": "stdout",
          "text": [
            "Asymmetric noise_level_10_asy Accuracy: 66.53%\n",
            "Asymmetric noise_level_30_asy Accuracy: 57.70%\n",
            "Asymmetric noise_level_50_asy Accuracy: 56.23%\n",
            "Asymmetric noise_level_80_asy Accuracy: 44.73%\n",
            "Asymmetric noise_level_90_asy Accuracy: 42.86%\n"
          ]
        }
      ]
    },
    {
      "cell_type": "markdown",
      "source": [
        "# Active Passive Loss (APL)"
      ],
      "metadata": {
        "id": "dpkHZMy3iS6O"
      }
    },
    {
      "cell_type": "markdown",
      "source": [
        "**1. Active Loss Functions**:\n",
        "<br> Cross Entropy (CE)\n",
        "<br> Normalized Cross Entropy (NCE)\n",
        "<br> Focal Loss (FL)\n",
        "<br> Normalized Focal Loss (NFL)\n",
        "<br>\n",
        "\n",
        "\n",
        "<br> **2. Passive Loss Functions**:\n",
        "<br> Mean Absolute Error (MAE)\n",
        "<br> Normalized Mean Absolute Error (NMAE)\n",
        "<br> Reverse Cross Entropy (RCE)\n",
        "<br> Normalized Reverse Cross Entropy (NRCE)\n",
        "<br>\n",
        "\n"
      ],
      "metadata": {
        "id": "PWwvdFdOpL-J"
      }
    },
    {
      "cell_type": "code",
      "source": [
        "class APLLoss(nn.Module):\n",
        "    def __init__(self, alpha, beta):\n",
        "        super(APLLoss, self).__init__()\n",
        "        self.alpha = alpha\n",
        "        self.beta = beta\n",
        "        self.active_loss = nn.CrossEntropyLoss()  # CE\n",
        "        self.passive_loss = nn.L1Loss()  # MAE\n",
        "\n",
        "    def forward(self, outputs, labels):\n",
        "        loss_active = self.active_loss(outputs, labels)\n",
        "\n",
        "        label_one_hot = torch.nn.functional.one_hot(labels.clone().detach(), 10)\n",
        "        # loss_passive = self.passive_loss(outputs, label_one_hot.view(-1, 1))\n",
        "        loss_passive = self.passive_loss(outputs, label_one_hot)\n",
        "        apl_loss = self.alpha * loss_active + self.beta * loss_passive\n",
        "        return apl_loss\n"
      ],
      "metadata": {
        "id": "Nw9CZ_AQiSrN"
      },
      "execution_count": 21,
      "outputs": []
    },
    {
      "cell_type": "code",
      "source": [
        "alpha = 1.0  # 이 값은 조절 가능\n",
        "beta = 10.0   # 이 값은 조절 가능\n",
        "apl_criterion = APLLoss(alpha, beta)\n",
        "\n",
        "APL_model = BaselineModel().to(device)\n",
        "optimizer = optim.SGD(APL_model.parameters(), lr=0.01, momentum=0.9)\n"
      ],
      "metadata": {
        "id": "OG-Omj2joD9E"
      },
      "execution_count": 22,
      "outputs": []
    },
    {
      "cell_type": "code",
      "source": [
        "APL_model.train()\n",
        "num_epochs = 5\n",
        "\n",
        "for epoch in range(num_epochs):\n",
        "    # Training\n",
        "    APL_model.train()\n",
        "    total_train_loss = 0.0\n",
        "    correct_train = 0\n",
        "    total_train = 0\n",
        "\n",
        "    for inputs, labels in train_loader:\n",
        "        # Move data to GPU\n",
        "        inputs, labels = inputs.to(device), labels.to(device)\n",
        "\n",
        "        # Zero the gradients\n",
        "        optimizer.zero_grad()\n",
        "\n",
        "        # Forward pass\n",
        "        outputs = APL_model(inputs)\n",
        "        loss = apl_criterion(outputs, labels)\n",
        "\n",
        "        # Backward pass and optimization\n",
        "        loss.backward()\n",
        "        optimizer.step()\n",
        "\n",
        "        total_train_loss += loss.item()\n",
        "        _, predicted = torch.max(outputs.data, 1)\n",
        "        total_train += labels.size(0)\n",
        "        correct_train += (predicted == labels).sum().item()\n",
        "\n",
        "    average_train_loss = total_train_loss / len(train_loader)\n",
        "    train_acc = 100 * correct_train / total_train\n",
        "\n",
        "    # Validation\n",
        "    APL_model.eval()\n",
        "    total_val_loss = 0.0\n",
        "    correct_val = 0\n",
        "    total_val = 0\n",
        "\n",
        "    with torch.no_grad():\n",
        "        for inputs, labels in val_loader:\n",
        "            # Move data to GPU\n",
        "            inputs, labels = inputs.to(device), labels.to(device)\n",
        "\n",
        "            # Forward pass\n",
        "            outputs = APL_model(inputs)\n",
        "            loss = apl_criterion(outputs, labels)\n",
        "\n",
        "            total_val_loss += loss.item()\n",
        "            _, predicted = torch.max(outputs.data, 1)\n",
        "            total_val += labels.size(0)\n",
        "            correct_val += (predicted == labels).sum().item()\n",
        "\n",
        "    average_val_loss = total_val_loss / len(val_loader)\n",
        "    val_acc = 100 * correct_val / total_val\n",
        "\n",
        "    print(f'Epoch {epoch + 1}/{num_epochs}, '\n",
        "          f'Train Loss: {average_train_loss:.4f}, Train Accuracy: {train_acc:.2f}%, '\n",
        "          f'Validation Loss: {average_val_loss:.4f}, Validation Accuracy: {val_acc:.2f}')\n"
      ],
      "metadata": {
        "colab": {
          "base_uri": "https://localhost:8080/"
        },
        "id": "PooGP9M-uLp-",
        "outputId": "9bf0f5b6-4be0-457a-adcd-4a3a7af83ae2"
      },
      "execution_count": 23,
      "outputs": [
        {
          "output_type": "stream",
          "name": "stdout",
          "text": [
            "Epoch 1/5, Train Loss: 2.6138, Train Accuracy: 11.32%, Validation Loss: 2.6071, Validation Accuracy: 10.01\n",
            "Epoch 2/5, Train Loss: 2.6077, Train Accuracy: 15.52%, Validation Loss: 2.6072, Validation Accuracy: 24.65\n",
            "Epoch 3/5, Train Loss: 2.6044, Train Accuracy: 21.83%, Validation Loss: 2.5906, Validation Accuracy: 23.69\n",
            "Epoch 4/5, Train Loss: 2.5700, Train Accuracy: 24.79%, Validation Loss: 2.5534, Validation Accuracy: 26.49\n",
            "Epoch 5/5, Train Loss: 2.5125, Train Accuracy: 28.92%, Validation Loss: 2.4724, Validation Accuracy: 33.20\n"
          ]
        }
      ]
    },
    {
      "cell_type": "code",
      "source": [],
      "metadata": {
        "id": "Zz_Aom6Rxifz"
      },
      "execution_count": null,
      "outputs": []
    },
    {
      "cell_type": "markdown",
      "source": [
        "## APL with noisy label 90"
      ],
      "metadata": {
        "id": "szYoWjPhb6Mu"
      }
    },
    {
      "cell_type": "code",
      "source": [
        "alpha = 1.0  # 이 값은 조절 가능\n",
        "beta = 3.0   # 이 값은 조절 가능\n",
        "apl_criterion = APLLoss(alpha, beta)\n",
        "\n",
        "APL_model = BaselineModel().to(device)\n",
        "optimizer = optim.SGD(APL_model.parameters(), lr=0.001, momentum=0.9)\n"
      ],
      "metadata": {
        "id": "cIOeDyhbcBlz"
      },
      "execution_count": 24,
      "outputs": []
    },
    {
      "cell_type": "code",
      "source": [
        "APL_model.train()\n",
        "num_epochs = 5\n",
        "\n",
        "for epoch in range(num_epochs):\n",
        "    # Training\n",
        "    APL_model.train()\n",
        "    total_train_loss = 0.0\n",
        "    correct_train = 0\n",
        "    total_train = 0\n",
        "\n",
        "    for inputs, labels in train_loader:\n",
        "\n",
        "        labels_noisy = torch.tensor(flip_labels_asymmetrically(labels.cpu().numpy(), 0.9)).to(device)\n",
        "        # Move data to GPU\n",
        "        inputs, labels_noisy = inputs.to(device), labels_noisy.to(device)\n",
        "\n",
        "\n",
        "        # Zero the gradients\n",
        "        optimizer.zero_grad()\n",
        "\n",
        "        # Forward pass\n",
        "        outputs = APL_model(inputs)\n",
        "        loss = apl_criterion(outputs, labels_noisy)\n",
        "\n",
        "        # Backward pass and optimization\n",
        "        loss.backward()\n",
        "        optimizer.step()\n",
        "\n",
        "        total_train_loss += loss.item()\n",
        "        _, predicted = torch.max(outputs.data, 1)\n",
        "        total_train += labels_noisy.size(0)\n",
        "        correct_train += (predicted == labels_noisy).sum().item()\n",
        "\n",
        "    average_train_loss = total_train_loss / len(train_loader)\n",
        "    train_acc = 100 * correct_train / total_train\n",
        "\n",
        "    # Validation\n",
        "    APL_model.eval()\n",
        "    total_val_loss = 0.0\n",
        "    correct_val = 0\n",
        "    total_val = 0\n",
        "\n",
        "    with torch.no_grad():\n",
        "        for inputs, labels in val_loader:\n",
        "            # Move data to GPU\n",
        "            inputs, labels = inputs.to(device), labels.to(device)\n",
        "\n",
        "            # Forward pass\n",
        "            outputs = APL_model(inputs)\n",
        "            loss = apl_criterion(outputs, labels)\n",
        "\n",
        "            total_val_loss += loss.item()\n",
        "            _, predicted = torch.max(outputs.data, 1)\n",
        "            total_val += labels.size(0)\n",
        "            correct_val += (predicted == labels).sum().item()\n",
        "\n",
        "    average_val_loss = total_val_loss / len(val_loader)\n",
        "    val_acc = 100 * correct_val / total_val\n",
        "\n",
        "    print(f'Epoch {epoch + 1}/{num_epochs}, '\n",
        "          f'Train Loss: {average_train_loss:.4f}, Train Accuracy: {train_acc:.2f}%, '\n",
        "          f'Validation Loss: {average_val_loss:.4f}, Validation Accuracy: {val_acc:.2f}')\n"
      ],
      "metadata": {
        "colab": {
          "base_uri": "https://localhost:8080/"
        },
        "id": "IPFdFTmjcBjD",
        "outputId": "fb332421-2fbc-45d3-e92f-d7d998952670"
      },
      "execution_count": 25,
      "outputs": [
        {
          "output_type": "stream",
          "name": "stdout",
          "text": [
            "Epoch 1/5, Train Loss: 2.6078, Train Accuracy: 21.94%, Validation Loss: 2.6035, Validation Accuracy: 12.36\n",
            "Epoch 2/5, Train Loss: 2.6031, Train Accuracy: 25.46%, Validation Loss: 2.6033, Validation Accuracy: 13.92\n",
            "Epoch 3/5, Train Loss: 2.6030, Train Accuracy: 27.14%, Validation Loss: 2.6034, Validation Accuracy: 15.39\n",
            "Epoch 4/5, Train Loss: 2.6029, Train Accuracy: 27.62%, Validation Loss: 2.6036, Validation Accuracy: 10.61\n",
            "Epoch 5/5, Train Loss: 2.6028, Train Accuracy: 28.69%, Validation Loss: 2.6035, Validation Accuracy: 14.10\n"
          ]
        }
      ]
    },
    {
      "cell_type": "markdown",
      "source": [
        "\n",
        "## ScanMix"
      ],
      "metadata": {
        "id": "HMjAQ6unjc3e"
      }
    },
    {
      "cell_type": "code",
      "source": [],
      "metadata": {
        "id": "iTJ6Zw2qjco-"
      },
      "execution_count": null,
      "outputs": []
    }
  ]
}