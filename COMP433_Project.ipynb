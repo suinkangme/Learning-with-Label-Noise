{
  "nbformat": 4,
  "nbformat_minor": 0,
  "metadata": {
    "colab": {
      "provenance": [],
      "gpuType": "T4",
      "include_colab_link": true
    },
    "kernelspec": {
      "name": "python3",
      "display_name": "Python 3"
    },
    "language_info": {
      "name": "python"
    },
    "accelerator": "GPU"
  },
  "cells": [
    {
      "cell_type": "markdown",
      "metadata": {
        "id": "view-in-github",
        "colab_type": "text"
      },
      "source": [
        "<a href=\"https://colab.research.google.com/github/suinkangme/comp433_project/blob/main/COMP433_Project.ipynb\" target=\"_parent\"><img src=\"https://colab.research.google.com/assets/colab-badge.svg\" alt=\"Open In Colab\"/></a>"
      ]
    },
    {
      "cell_type": "markdown",
      "source": [
        "# Developing a robust CNN model to address the challenge of learning with label noise in  CIFAR10 dataset\n",
        "\n",
        "- CIFAR10 Label : ‘airplane’, ‘automobile’, ‘bird’, ‘cat’, ‘deer’, ‘dog’, ‘frog’, ‘horse’, ‘ship’, ‘truck’.\n",
        "\n",
        "- image size : 3x32x32\n",
        "\n",
        "\n"
      ],
      "metadata": {
        "id": "TyD3ZYpdMfXE"
      }
    },
    {
      "cell_type": "code",
      "source": [
        "import torch\n",
        "import torchvision\n",
        "import torchvision.transforms as transforms\n",
        "import torch.nn as nn\n",
        "import torch.nn.functional as F\n",
        "import torch.optim as optim\n",
        "import numpy as np\n"
      ],
      "metadata": {
        "id": "ItN3Ur88Mbn1"
      },
      "execution_count": null,
      "outputs": []
    },
    {
      "cell_type": "markdown",
      "source": [
        "## Load and normalize CIFAR10\n",
        "\n",
        "- Transform them to Tensors of normalized range [-1, 1]."
      ],
      "metadata": {
        "id": "gt98-baGNJdN"
      }
    },
    {
      "cell_type": "code",
      "execution_count": null,
      "metadata": {
        "id": "1rn4qMyOLcgV"
      },
      "outputs": [],
      "source": [
        "transform = transforms.Compose(\n",
        "                              [transforms.ToTensor(),\n",
        "                               transforms.Normalize((0.5, 0.5, 0.5), (0.5, 0.5, 0.5))])\n",
        "\n",
        "batch_size = 4\n",
        "classes = ('plane', 'car', 'bird', 'cat', 'deer', 'dog', 'frog', 'horse', 'ship', 'truck')"
      ]
    },
    {
      "cell_type": "code",
      "source": [
        "train_data = torchvision.datasets.CIFAR10(root='./data',\n",
        "                                          train=True,\n",
        "                                          download=True,\n",
        "                                          transform = transform)\n",
        "\n",
        "test_data = torchvision.datasets.CIFAR10(root='./data',\n",
        "                                          train=False,\n",
        "                                          download=True,\n",
        "                                          transform = transform)"
      ],
      "metadata": {
        "colab": {
          "base_uri": "https://localhost:8080/"
        },
        "id": "ce3wRQHnNG9h",
        "outputId": "da91d652-c5ae-4148-ff14-1b61470f734e"
      },
      "execution_count": null,
      "outputs": [
        {
          "output_type": "stream",
          "name": "stdout",
          "text": [
            "Files already downloaded and verified\n",
            "Files already downloaded and verified\n"
          ]
        }
      ]
    },
    {
      "cell_type": "code",
      "source": [
        "train_loader = torch.utils.data.DataLoader(train_data,\n",
        "                                          batch_size=batch_size,\n",
        "                                          shuffle=True,\n",
        "                                          num_workers=2)\n",
        "\n",
        "test_loader = torch.utils.data.DataLoader(test_data,\n",
        "                                          batch_size=batch_size,\n",
        "                                          shuffle=False,\n",
        "                                          num_workers=2)"
      ],
      "metadata": {
        "id": "Fgj89DFSN-WQ"
      },
      "execution_count": null,
      "outputs": []
    },
    {
      "cell_type": "markdown",
      "source": [
        "## Define & train with a  baseline CNN model"
      ],
      "metadata": {
        "id": "6nGN9QRnOfLn"
      }
    },
    {
      "cell_type": "code",
      "source": [
        "class BaselineModel(nn.Module):\n",
        "  def __init__(self):\n",
        "    super(BaselineModel,self).__init__()\n",
        "    self.features = nn.Sequential(\n",
        "      nn.Conv2d(3, 8, kernel_size=3, padding = 1),  # (input channel, output channels, kernel size, padding)  32*32*8\n",
        "      nn.ReLU(inplace=True), # activation function modifies the input tensor directly\n",
        "      nn.Conv2d(8, 16, kernel_size=3, padding=1),\n",
        "      nn.ReLU(inplace=True),\n",
        "      nn.MaxPool2d(kernel_size=2,stride=2), # 16*16*16\n",
        "\n",
        "      nn.Conv2d(16, 32, kernel_size=3, padding=1),\n",
        "      nn.ReLU(inplace=True),\n",
        "      nn.Conv2d(32, 64, kernel_size=3, padding=1),\n",
        "      nn.ReLU(inplace=True),\n",
        "      nn.Conv2d(64, 128, kernel_size=3, padding=1),\n",
        "      nn.MaxPool2d(kernel_size=2,stride=2) # 8*8*128\n",
        "    )\n",
        "\n",
        "    # fully connected layers\n",
        "    self.fc_layers = nn.Sequential(\n",
        "      nn.Linear(128*8*8, 120),\n",
        "      nn.Linear(120,84),\n",
        "      nn.Linear(84,10)\n",
        "    )\n",
        "\n",
        "\n",
        "  def forward(self, x):\n",
        "    x = self.features(x)\n",
        "    x = torch.flatten(x,1)\n",
        "    x = self.fc_layers(x)\n",
        "    return x"
      ],
      "metadata": {
        "id": "dOrsrTZ9M7wM"
      },
      "execution_count": null,
      "outputs": []
    },
    {
      "cell_type": "code",
      "source": [
        "# Training on GPU\n",
        "device = torch.device('cuda' if torch.cuda.is_available() else 'cpu')\n",
        "\n",
        "net = BaselineModel()\n",
        "criterion = nn.CrossEntropyLoss()\n",
        "optimizer = optim.SGD(net.parameters(), lr=0.001)"
      ],
      "metadata": {
        "id": "sIhU5JCnOx6R"
      },
      "execution_count": null,
      "outputs": []
    },
    {
      "cell_type": "code",
      "source": [
        "net = net.to(device)\n",
        "net.train()\n",
        "num_epochs = 5\n",
        "\n",
        "for epoch in range(num_epochs):\n",
        "    for inputs, labels in train_loader:\n",
        "        # Add symmetric noise to labels\n",
        "        labels_noisy = torch.from_numpy(replace_symmetric_noise(labels.numpy(), epsilon))\n",
        "\n",
        "        # Move data to GPU\n",
        "        inputs, labels_noisy = inputs.to(device), labels_noisy.to(device)\n",
        "\n",
        "        # Zero the gradients\n",
        "        optimizer.zero_grad()\n",
        "\n",
        "        # Forward pass\n",
        "        outputs = net(inputs)\n",
        "        loss = criterion(outputs, labels_noisy)\n",
        "\n",
        "        # Backward pass and optimization\n",
        "        loss.backward()\n",
        "        optimizer.step()\n",
        "\n",
        "    print(f'Epoch {epoch + 1}/{num_epochs}, Loss: {loss.item()}')"
      ],
      "metadata": {
        "id": "rZc3RsSbO2Qt"
      },
      "execution_count": null,
      "outputs": []
    },
    {
      "cell_type": "markdown",
      "source": [
        "## Noise Labeling\n",
        "- 5 different noise levels (10%,\n",
        "30%, 50%, 80%, 90%)"
      ],
      "metadata": {
        "id": "-U2PfzQbqjq_"
      }
    },
    {
      "cell_type": "markdown",
      "source": [
        "### Symmetric label noise"
      ],
      "metadata": {
        "id": "xBci2_LerBLe"
      }
    },
    {
      "cell_type": "code",
      "source": [
        "def replace_symmetric_noise(labels, epsilon):\n",
        "    num_labels = len(labels)\n",
        "    num_flips = int(epsilon * num_labels)\n",
        "\n",
        "    # choose the label to be flipped\n",
        "    flip_indices = np.random.choice(num_labels, num_flips, replace=True)\n",
        "\n",
        "    # filp the label\n",
        "    labels[flip_indices] = np.random.randint(0, 10, num_flips)\n",
        "\n",
        "    return labels"
      ],
      "metadata": {
        "id": "oFdDk4NVq7bt"
      },
      "execution_count": null,
      "outputs": []
    },
    {
      "cell_type": "markdown",
      "source": [
        "### Asymmetric label noise"
      ],
      "metadata": {
        "id": "9QPh92lorDFp"
      }
    },
    {
      "cell_type": "code",
      "source": [],
      "metadata": {
        "id": "9JbGzoKTq7f4"
      },
      "execution_count": null,
      "outputs": []
    },
    {
      "cell_type": "code",
      "source": [],
      "metadata": {
        "id": "KlVSF8l0q7h_"
      },
      "execution_count": null,
      "outputs": []
    },
    {
      "cell_type": "markdown",
      "source": [
        "## Train the model - baseline"
      ],
      "metadata": {
        "id": "FCwqkc3bPFcG"
      }
    },
    {
      "cell_type": "markdown",
      "source": [
        "### Train with the symmetric noise labeling"
      ],
      "metadata": {
        "id": "5V9Glhks0h9G"
      }
    },
    {
      "cell_type": "code",
      "source": [
        "# add noisy label in training data\n",
        "noise_levels = [0.1, 0.3, 0.5, 0.8, 0.9]\n",
        "\n",
        "for epsilon in noise_levels:\n",
        "    for batch in train_loader:\n",
        "        inputs, labels = batch\n",
        "        labels_noisy = torch.from_numpy(replace_symmetric_noise(labels.numpy(), epsilon))\n",
        "        break"
      ],
      "metadata": {
        "id": "-ro8EOfa0CZi"
      },
      "execution_count": null,
      "outputs": []
    },
    {
      "cell_type": "code",
      "source": [
        "# Training on GPU\n",
        "device = torch.device('cuda' if torch.cuda.is_available() else 'cpu')\n",
        "\n",
        "net = BaselineModel()\n",
        "criterion = nn.CrossEntropyLoss()\n",
        "optimizer = optim.SGD(net.parameters(), lr=0.001)"
      ],
      "metadata": {
        "id": "WUYwO5UgPHSJ"
      },
      "execution_count": null,
      "outputs": []
    },
    {
      "cell_type": "code",
      "source": [
        "net = net.to(device)\n",
        "net.train()\n",
        "num_epochs = 5\n",
        "\n",
        "for epsilon in noise_levels:\n",
        "    print(f\"Training with noise level: {epsilon}\")\n",
        "\n",
        "    for epoch in range(num_epochs):\n",
        "        for inputs, labels in train_loader:\n",
        "            # Add symmetric noise to labels\n",
        "            labels_noisy = torch.from_numpy(replace_symmetric_noise(labels.numpy(), epsilon))\n",
        "\n",
        "            # Move data to GPU\n",
        "            inputs, labels_noisy = inputs.to(device), labels_noisy.to(device)\n",
        "\n",
        "            # Zero the gradients\n",
        "            optimizer.zero_grad()\n",
        "\n",
        "            # Forward pass\n",
        "            outputs = net(inputs)\n",
        "            loss = criterion(outputs, labels_noisy)\n",
        "\n",
        "            # Backward pass and optimization\n",
        "            loss.backward()\n",
        "            optimizer.step()\n",
        "\n",
        "        print(f'Epoch {epoch + 1}/{num_epochs}, Loss: {loss.item()}')"
      ],
      "metadata": {
        "id": "z0ax5iBOPY_A",
        "colab": {
          "base_uri": "https://localhost:8080/"
        },
        "outputId": "f3659800-d053-4880-c87c-dc40e9003bef"
      },
      "execution_count": null,
      "outputs": [
        {
          "output_type": "stream",
          "name": "stdout",
          "text": [
            "Training with noise level: 0.1\n",
            "Epoch 1/5, Loss: 2.30238676071167\n",
            "Epoch 2/5, Loss: 1.5242005586624146\n",
            "Epoch 3/5, Loss: 2.2556095123291016\n",
            "Epoch 4/5, Loss: 1.0767682790756226\n",
            "Epoch 5/5, Loss: 0.898138165473938\n",
            "Training with noise level: 0.3\n",
            "Epoch 1/5, Loss: 2.757546901702881\n",
            "Epoch 2/5, Loss: 1.638185977935791\n",
            "Epoch 3/5, Loss: 1.854264497756958\n",
            "Epoch 4/5, Loss: 2.282151699066162\n",
            "Epoch 5/5, Loss: 1.7049169540405273\n",
            "Training with noise level: 0.5\n",
            "Epoch 1/5, Loss: 1.5644617080688477\n",
            "Epoch 2/5, Loss: 2.0209763050079346\n",
            "Epoch 3/5, Loss: 2.291236639022827\n",
            "Epoch 4/5, Loss: 1.6990864276885986\n",
            "Epoch 5/5, Loss: 2.149033784866333\n",
            "Training with noise level: 0.8\n",
            "Epoch 1/5, Loss: 1.4480369091033936\n",
            "Epoch 2/5, Loss: 2.5724403858184814\n",
            "Epoch 3/5, Loss: 1.9998520612716675\n",
            "Epoch 4/5, Loss: 1.3448346853256226\n",
            "Epoch 5/5, Loss: 1.8458837270736694\n",
            "Training with noise level: 0.9\n",
            "Epoch 1/5, Loss: 2.1964120864868164\n",
            "Epoch 2/5, Loss: 1.8810663223266602\n",
            "Epoch 3/5, Loss: 2.142885684967041\n",
            "Epoch 4/5, Loss: 2.3506855964660645\n",
            "Epoch 5/5, Loss: 2.6238298416137695\n"
          ]
        }
      ]
    },
    {
      "cell_type": "code",
      "source": [],
      "metadata": {
        "id": "zRiBGV6bPf6n"
      },
      "execution_count": null,
      "outputs": []
    },
    {
      "cell_type": "code",
      "source": [],
      "metadata": {
        "id": "PkWK7f63Pf8w"
      },
      "execution_count": null,
      "outputs": []
    },
    {
      "cell_type": "code",
      "source": [],
      "metadata": {
        "id": "2vCTJAg4y1w-"
      },
      "execution_count": null,
      "outputs": []
    },
    {
      "cell_type": "code",
      "source": [],
      "metadata": {
        "id": "JOZFZQvLy1zU"
      },
      "execution_count": null,
      "outputs": []
    },
    {
      "cell_type": "code",
      "source": [],
      "metadata": {
        "id": "uTbm0njay116"
      },
      "execution_count": null,
      "outputs": []
    },
    {
      "cell_type": "code",
      "source": [],
      "metadata": {
        "id": "53SlBcnMy13_"
      },
      "execution_count": null,
      "outputs": []
    },
    {
      "cell_type": "markdown",
      "source": [
        "### Save the trained model"
      ],
      "metadata": {
        "id": "IkSEwY47PgqO"
      }
    },
    {
      "cell_type": "code",
      "source": [
        "# save the baseline model\n",
        "PATH = './BaselineModel.pth'\n",
        "torch.save(net.state_dict(), PATH)"
      ],
      "metadata": {
        "id": "xUrJVj8uPkHX"
      },
      "execution_count": null,
      "outputs": []
    },
    {
      "cell_type": "markdown",
      "source": [
        "## Testing"
      ],
      "metadata": {
        "id": "asbhwa8yPZFi"
      }
    },
    {
      "cell_type": "code",
      "source": [],
      "metadata": {
        "id": "1CIE0iuYPZ--"
      },
      "execution_count": null,
      "outputs": []
    },
    {
      "cell_type": "code",
      "source": [],
      "metadata": {
        "id": "6QrWOk7fPfXW"
      },
      "execution_count": null,
      "outputs": []
    },
    {
      "cell_type": "code",
      "source": [],
      "metadata": {
        "id": "31p902DfPfay"
      },
      "execution_count": null,
      "outputs": []
    }
  ]
}