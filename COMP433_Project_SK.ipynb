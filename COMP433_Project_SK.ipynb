{
  "nbformat": 4,
  "nbformat_minor": 0,
  "metadata": {
    "colab": {
      "provenance": [],
      "gpuType": "T4",
      "include_colab_link": true
    },
    "kernelspec": {
      "name": "python3",
      "display_name": "Python 3"
    },
    "language_info": {
      "name": "python"
    },
    "accelerator": "GPU"
  },
  "cells": [
    {
      "cell_type": "markdown",
      "metadata": {
        "id": "view-in-github",
        "colab_type": "text"
      },
      "source": [
        "<a href=\"https://colab.research.google.com/github/suinkangme/comp433_project/blob/main/COMP433_Project_SK.ipynb\" target=\"_parent\"><img src=\"https://colab.research.google.com/assets/colab-badge.svg\" alt=\"Open In Colab\"/></a>"
      ]
    },
    {
      "cell_type": "markdown",
      "source": [
        "# Developing a robust CNN model to address the challenge of learning with label noise in  CIFAR10 dataset\n",
        "\n",
        "- CIFAR10 Label : ‘airplane’, ‘automobile’, ‘bird’, ‘cat’, ‘deer’, ‘dog’, ‘frog’, ‘horse’, ‘ship’, ‘truck’.\n",
        "\n",
        "- image size : 3x32x32\n",
        "\n",
        "\n"
      ],
      "metadata": {
        "id": "TyD3ZYpdMfXE"
      }
    },
    {
      "cell_type": "code",
      "source": [
        "import torch\n",
        "import torchvision\n",
        "import torchvision.transforms as transforms\n",
        "import torch.nn as nn\n",
        "import torch.nn.functional as F\n",
        "import torch.optim as optim\n",
        "import numpy as np\n",
        "from torch.utils.data import DataLoader, random_split\n",
        "import os"
      ],
      "metadata": {
        "id": "ItN3Ur88Mbn1"
      },
      "execution_count": null,
      "outputs": []
    },
    {
      "cell_type": "markdown",
      "source": [
        "## Load and normalize CIFAR10\n",
        "\n",
        "- Transform them to Tensors of normalized range [-1, 1]."
      ],
      "metadata": {
        "id": "Mby_AXQNk9k_"
      }
    },
    {
      "cell_type": "code",
      "source": [
        "# train dataset\n",
        "train_transform = transforms.Compose([\n",
        "    transforms.RandomHorizontalFlip(),\n",
        "    transforms.ToTensor(),\n",
        "    transforms.Normalize(mean=[0.5, 0.5, 0.5], std=[0.5, 0.5, 0.5]),\n",
        "])\n",
        "cifar10_dataset = torchvision.datasets.CIFAR10(root='./data', train=True, download=True)"
      ],
      "metadata": {
        "id": "em4BZ8EAmHGn",
        "colab": {
          "base_uri": "https://localhost:8080/"
        },
        "outputId": "e7524655-ad2f-4f9f-d7f2-d6c513269f70"
      },
      "execution_count": null,
      "outputs": [
        {
          "output_type": "stream",
          "name": "stdout",
          "text": [
            "Files already downloaded and verified\n"
          ]
        }
      ]
    },
    {
      "cell_type": "code",
      "source": [
        "# validation, test dataset\n",
        "test_val_transform = transforms.Compose([\n",
        "    transforms.ToTensor(),\n",
        "    transforms.Normalize(mean=[0.5, 0.5, 0.5], std=[0.5, 0.5, 0.5]),\n",
        "])"
      ],
      "metadata": {
        "id": "CwdaaOWA5fSa"
      },
      "execution_count": null,
      "outputs": []
    },
    {
      "cell_type": "code",
      "source": [
        "# split the dataset into train and validation\n",
        "train_size = int(0.8 * len(cifar10_dataset))\n",
        "val_size = len(cifar10_dataset) - train_size\n",
        "train_dataset, val_dataset = random_split(cifar10_dataset, [train_size, val_size])"
      ],
      "metadata": {
        "id": "laHDmghE6YLN"
      },
      "execution_count": null,
      "outputs": []
    },
    {
      "cell_type": "code",
      "source": [
        "train_dataset.dataset.transform = train_transform\n",
        "val_dataset.dataset.transform = test_val_transform\n",
        "\n",
        "train_loader = DataLoader(train_dataset, batch_size=64, shuffle=True)\n",
        "val_loader = DataLoader(val_dataset, batch_size=64, shuffle=False)"
      ],
      "metadata": {
        "id": "4HUffu9C6q3T"
      },
      "execution_count": null,
      "outputs": []
    },
    {
      "cell_type": "code",
      "source": [
        "test_dataset = torchvision.datasets.CIFAR10(root='./data', train=False, download=True, transform=test_val_transform)\n",
        "test_loader = DataLoader(test_dataset, batch_size=64, shuffle=False)"
      ],
      "metadata": {
        "colab": {
          "base_uri": "https://localhost:8080/"
        },
        "id": "rekxxb1b6YQM",
        "outputId": "3094d741-7c0e-467c-f424-edf8271626f9"
      },
      "execution_count": null,
      "outputs": [
        {
          "output_type": "stream",
          "name": "stdout",
          "text": [
            "Files already downloaded and verified\n"
          ]
        }
      ]
    },
    {
      "cell_type": "markdown",
      "source": [
        "## Noise Labeling\n",
        "- 5 different noise levels (10%,\n",
        "30%, 50%, 80%, 90%)"
      ],
      "metadata": {
        "id": "-U2PfzQbqjq_"
      }
    },
    {
      "cell_type": "code",
      "source": [
        "def apply_label_noise(labels, epsilon, noise_type):\n",
        "    num_labels = len(labels)\n",
        "    num_flips = int(epsilon * num_labels)\n",
        "\n",
        "    if noise_type == 'symmetric':\n",
        "        # Symmetric label noise\n",
        "        flip_indices = np.random.choice(num_labels, num_flips, replace=False)\n",
        "        labels[flip_indices] = np.random.randint(0, 10, num_flips)\n",
        "    elif noise_type == 'asymmetric':\n",
        "        # Asymmetric label noise\n",
        "        flip_rules = {\n",
        "            9: 1,   # Truck to Automobile\n",
        "            2: 0,   # Bird to Airplane\n",
        "            4: 7,   # Deer to Horse\n",
        "            3: 5,   # Cat to Dog\n",
        "            5: 3,   # Dog to Cat\n",
        "        }\n",
        "\n",
        "        for i in range(num_labels):\n",
        "            if np.random.random() < epsilon:\n",
        "                labels[i] = flip_rules.get(labels[i], labels[i])\n",
        "\n",
        "    return labels"
      ],
      "metadata": {
        "id": "tyxVnHB5k2a5"
      },
      "execution_count": null,
      "outputs": []
    },
    {
      "cell_type": "markdown",
      "source": [
        "## Define a  baseline CNN model"
      ],
      "metadata": {
        "id": "cqkWDzlPmd8H"
      }
    },
    {
      "cell_type": "code",
      "source": [
        "class BaselineModel(nn.Module):\n",
        "    def __init__(self):\n",
        "        super(BaselineModel, self).__init__()\n",
        "        self.features = nn.Sequential(\n",
        "            nn.Conv2d(3, 8, kernel_size=3, padding=1),\n",
        "            nn.ReLU(inplace=True),\n",
        "            nn.Conv2d(8, 16, kernel_size=3, padding=1),\n",
        "            nn.ReLU(inplace=True),\n",
        "            nn.MaxPool2d(kernel_size=2, stride=2),\n",
        "            nn.Conv2d(16, 32, kernel_size=3, padding=1),\n",
        "            nn.ReLU(inplace=True),\n",
        "            nn.Conv2d(32, 64, kernel_size=3, padding=1),\n",
        "            nn.ReLU(inplace=True),\n",
        "            nn.Conv2d(64, 128, kernel_size=3, padding=1),\n",
        "            nn.MaxPool2d(kernel_size=2, stride=2)\n",
        "        )\n",
        "\n",
        "        # fc layers\n",
        "        self.fc_layers = nn.Sequential(\n",
        "            nn.Linear(128 * 8 * 8, 120),\n",
        "            nn.ReLU(inplace=True),\n",
        "            nn.Linear(120, 84),\n",
        "            nn.ReLU(inplace=True),\n",
        "            nn.Linear(84, 10)\n",
        "        )\n",
        "\n",
        "    def forward(self, x):\n",
        "        x = self.features(x)\n",
        "        x = torch.flatten(x, 1)\n",
        "        x = self.fc_layers(x)\n",
        "        return x"
      ],
      "metadata": {
        "id": "kGhXTfeRmeLA"
      },
      "execution_count": null,
      "outputs": []
    },
    {
      "cell_type": "markdown",
      "source": [
        "## Train & Validation and Testing - symmetric noise label"
      ],
      "metadata": {
        "id": "F5kl1vfP7mjx"
      }
    },
    {
      "cell_type": "code",
      "source": [
        "# noise_levels\n",
        "noise_levels = [0.1, 0.3, 0.5, 0.8, 0.9]\n",
        "\n",
        "# create a dictionary with keys in the format 'noise_level_{100 * value}'\n",
        "model_dict = {f'noise_level_{int(100 * level)}_sy': None for level in noise_levels}\n",
        "\n",
        "device = torch.device('cuda' if torch.cuda.is_available() else 'cpu')\n",
        "\n",
        "# training\n",
        "for epsilon in noise_levels:\n",
        "\n",
        "    num_epochs = 5\n",
        "\n",
        "    model = BaselineModel()\n",
        "    criterion = nn.CrossEntropyLoss()\n",
        "    optimizer = optim.Adam(model.parameters(), lr=0.001)\n",
        "\n",
        "    model = model.to(device)\n",
        "    model.train()\n",
        "\n",
        "    print(f\"Symmetric Training with noise level: {epsilon}\")\n",
        "\n",
        "    for epoch in range(num_epochs):\n",
        "        for inputs, labels in train_loader:\n",
        "\n",
        "            # add symmetric noise to labels\n",
        "            labels = apply_label_noise(labels.numpy(), epsilon=epsilon, noise_type='symmetric')\n",
        "            labels = torch.from_numpy(labels)\n",
        "\n",
        "            inputs, labels = inputs.to(device), labels.to(device)\n",
        "\n",
        "            optimizer.zero_grad()\n",
        "\n",
        "            outputs = model(inputs)\n",
        "            loss = criterion(outputs, labels)\n",
        "\n",
        "            loss.backward()\n",
        "            optimizer.step()\n",
        "\n",
        "        print(f'Epoch {epoch + 1}/{num_epochs}, Loss: {loss.item()}')\n",
        "\n",
        "    # validation\n",
        "    model.eval()\n",
        "    val_loss = 0.0\n",
        "    correct = 0\n",
        "    total = 0\n",
        "\n",
        "    with torch.no_grad():\n",
        "        for inputs, labels in val_loader:\n",
        "            inputs, labels = inputs.to(device), labels.to(device)\n",
        "\n",
        "            outputs = model(inputs)\n",
        "            loss = criterion(outputs, labels)\n",
        "\n",
        "            val_loss += loss.item()\n",
        "\n",
        "            _, predicted = torch.max(outputs.data, 1)\n",
        "            total += labels.size(0)\n",
        "            correct += (predicted == labels).sum().item()\n",
        "\n",
        "    val_accuracy = correct / total\n",
        "    average_val_loss = val_loss / len(val_loader)\n",
        "\n",
        "    print(f'Validation Loss: {average_val_loss}, Validation Accuracy: {val_accuracy}')\n",
        "\n",
        "    # save model to dictionary\n",
        "    model_dict[f'noise_level_{int(100 * epsilon)}_sy'] = {\n",
        "        'state_dict': model.state_dict(),\n",
        "        'validation_loss': average_val_loss,\n",
        "        'validation_accuracy': val_accuracy\n",
        "    }"
      ],
      "metadata": {
        "colab": {
          "base_uri": "https://localhost:8080/"
        },
        "id": "Lna2HUsA7JS5",
        "outputId": "1facc628-c14e-4936-c964-511a94718c1d"
      },
      "execution_count": null,
      "outputs": [
        {
          "output_type": "stream",
          "name": "stdout",
          "text": [
            "Symmetric Training with noise level: 0.1\n",
            "Epoch 1/5, Loss: 1.5523980855941772\n",
            "Epoch 2/5, Loss: 1.0481728315353394\n",
            "Epoch 3/5, Loss: 1.334956407546997\n",
            "Epoch 4/5, Loss: 1.1186453104019165\n",
            "Epoch 5/5, Loss: 1.022223711013794\n",
            "Validation Loss: 0.9511796141126353, Validation Accuracy: 0.6873\n",
            "Symmetric Training with noise level: 0.3\n",
            "Epoch 1/5, Loss: 1.8114701509475708\n",
            "Epoch 2/5, Loss: 1.6694812774658203\n",
            "Epoch 3/5, Loss: 1.6449484825134277\n",
            "Epoch 4/5, Loss: 1.838634967803955\n",
            "Epoch 5/5, Loss: 1.624744176864624\n",
            "Validation Loss: 1.1766358488684248, Validation Accuracy: 0.6562\n",
            "Symmetric Training with noise level: 0.5\n",
            "Epoch 1/5, Loss: 2.0494179725646973\n",
            "Epoch 2/5, Loss: 2.194352865219116\n",
            "Epoch 3/5, Loss: 2.0763089656829834\n",
            "Epoch 4/5, Loss: 1.9961799383163452\n",
            "Epoch 5/5, Loss: 2.036752462387085\n",
            "Validation Loss: 1.524189037881839, Validation Accuracy: 0.569\n",
            "Symmetric Training with noise level: 0.8\n",
            "Epoch 1/5, Loss: 2.2851269245147705\n",
            "Epoch 2/5, Loss: 2.2861506938934326\n",
            "Epoch 3/5, Loss: 2.312795400619507\n",
            "Epoch 4/5, Loss: 2.307537078857422\n",
            "Epoch 5/5, Loss: 2.242276191711426\n",
            "Validation Loss: 2.109307257233152, Validation Accuracy: 0.3536\n",
            "Symmetric Training with noise level: 0.9\n",
            "Epoch 1/5, Loss: 2.3077809810638428\n",
            "Epoch 2/5, Loss: 2.305110454559326\n",
            "Epoch 3/5, Loss: 2.2984371185302734\n",
            "Epoch 4/5, Loss: 2.3043458461761475\n",
            "Epoch 5/5, Loss: 2.301166534423828\n",
            "Validation Loss: 2.302555971084886, Validation Accuracy: 0.1026\n"
          ]
        }
      ]
    },
    {
      "cell_type": "code",
      "source": [
        "# testing\n",
        "for key, model_state_info in model_dict.items():\n",
        "\n",
        "    model = BaselineModel()\n",
        "    model_state = model.state_dict()\n",
        "    model_state.update({k: v for k, v in model_state_info['state_dict'].items() if k in model_state})\n",
        "\n",
        "    # load the updated state_dict\n",
        "    model.load_state_dict(model_state)\n",
        "\n",
        "    model = model.to(device)\n",
        "    model.eval()\n",
        "\n",
        "    correct = 0\n",
        "    total = 0\n",
        "\n",
        "    with torch.no_grad():\n",
        "        for inputs, labels in val_loader:\n",
        "            inputs, labels = inputs.to(device), labels.to(device)\n",
        "            outputs = model(inputs)\n",
        "            _, predicted = torch.max(outputs.data, 1)\n",
        "            total += labels.size(0)\n",
        "            correct += (predicted == labels).sum().item()\n",
        "\n",
        "    accuracy = correct / total\n",
        "    print(f'Test Accuracy for {key}: {accuracy}')"
      ],
      "metadata": {
        "colab": {
          "base_uri": "https://localhost:8080/"
        },
        "id": "R7Uv61au89vx",
        "outputId": "a9b94fc0-10db-4509-b968-83995dc8be19"
      },
      "execution_count": null,
      "outputs": [
        {
          "output_type": "stream",
          "name": "stdout",
          "text": [
            "Test Accuracy for noise_level_10_sy: 0.6873\n",
            "Test Accuracy for noise_level_30_sy: 0.6562\n",
            "Test Accuracy for noise_level_50_sy: 0.569\n",
            "Test Accuracy for noise_level_80_sy: 0.3536\n",
            "Test Accuracy for noise_level_90_sy: 0.1026\n"
          ]
        }
      ]
    },
    {
      "cell_type": "markdown",
      "source": [
        "## Train & Validation and Testing - asymmetric noise label"
      ],
      "metadata": {
        "id": "MP5bB-Jn716l"
      }
    },
    {
      "cell_type": "code",
      "source": [
        "# noise_levels\n",
        "noise_levels = [0.1, 0.3, 0.5, 0.8, 0.9]\n",
        "\n",
        "# create a dictionary with keys in the format 'noise_level_{100 * value}'\n",
        "model_dict = {f'noise_level_{int(100 * level)}_asy': None for level in noise_levels}\n",
        "\n",
        "device = torch.device('cuda' if torch.cuda.is_available() else 'cpu')\n",
        "\n",
        "# training\n",
        "for epsilon in noise_levels:\n",
        "\n",
        "    num_epochs = 5\n",
        "\n",
        "    model = BaselineModel()\n",
        "    criterion = nn.CrossEntropyLoss()\n",
        "    optimizer = optim.Adam(model.parameters(), lr=0.001)\n",
        "\n",
        "    model = model.to(device)\n",
        "    model.train()\n",
        "\n",
        "    print(f\"Asymmetric Training with noise level: {epsilon}\")\n",
        "\n",
        "    for epoch in range(num_epochs):\n",
        "        for inputs, labels in train_loader:\n",
        "\n",
        "            # add symmetric noise to labels\n",
        "            labels = apply_label_noise(labels.numpy(), epsilon=epsilon, noise_type='asymmetric')\n",
        "            labels = torch.from_numpy(labels)\n",
        "\n",
        "            inputs, labels = inputs.to(device), labels.to(device)\n",
        "\n",
        "            optimizer.zero_grad()\n",
        "\n",
        "            outputs = model(inputs)\n",
        "            loss = criterion(outputs, labels)\n",
        "\n",
        "            loss.backward()\n",
        "            optimizer.step()\n",
        "\n",
        "        print(f'Epoch {epoch + 1}/{num_epochs}, Loss: {loss.item()}')\n",
        "\n",
        "    # validation\n",
        "    model.eval()\n",
        "    val_loss = 0.0\n",
        "    correct = 0\n",
        "    total = 0\n",
        "\n",
        "    with torch.no_grad():\n",
        "        for inputs, labels in val_loader:\n",
        "            inputs, labels = inputs.to(device), labels.to(device)\n",
        "\n",
        "            outputs = model(inputs)\n",
        "            loss = criterion(outputs, labels)\n",
        "\n",
        "            val_loss += loss.item()\n",
        "\n",
        "            _, predicted = torch.max(outputs.data, 1)\n",
        "            total += labels.size(0)\n",
        "            correct += (predicted == labels).sum().item()\n",
        "\n",
        "    val_accuracy = correct / total\n",
        "    average_val_loss = val_loss / len(val_loader)\n",
        "\n",
        "    print(f'Validation Loss: {average_val_loss}, Validation Accuracy: {val_accuracy}')\n",
        "\n",
        "    # save model to dictionary\n",
        "    model_dict[f'noise_level_{int(100 * epsilon)}_asy'] = {\n",
        "        'state_dict': model.state_dict(),\n",
        "        'validation_loss': average_val_loss,\n",
        "        'validation_accuracy': val_accuracy\n",
        "    }"
      ],
      "metadata": {
        "colab": {
          "base_uri": "https://localhost:8080/"
        },
        "id": "t_nb_gK97boB",
        "outputId": "e7313e0a-3690-4393-fcd5-ab00842a50fe"
      },
      "execution_count": null,
      "outputs": [
        {
          "output_type": "stream",
          "name": "stdout",
          "text": [
            "Asymmetric Training with noise level: 0.1\n",
            "Epoch 1/5, Loss: 1.3520103693008423\n",
            "Epoch 2/5, Loss: 0.9156202077865601\n",
            "Epoch 3/5, Loss: 0.5246793627738953\n",
            "Epoch 4/5, Loss: 0.8600916862487793\n",
            "Epoch 5/5, Loss: 0.8814508318901062\n",
            "Validation Loss: 0.8582057041727054, Validation Accuracy: 0.7022\n",
            "Asymmetric Training with noise level: 0.3\n",
            "Epoch 1/5, Loss: 1.460185170173645\n",
            "Epoch 2/5, Loss: 1.3619500398635864\n",
            "Epoch 3/5, Loss: 1.2083697319030762\n",
            "Epoch 4/5, Loss: 1.1095333099365234\n",
            "Epoch 5/5, Loss: 0.8080011010169983\n",
            "Validation Loss: 0.9474637424869902, Validation Accuracy: 0.6811\n",
            "Asymmetric Training with noise level: 0.5\n",
            "Epoch 1/5, Loss: 1.181923270225525\n",
            "Epoch 2/5, Loss: 1.2102376222610474\n",
            "Epoch 3/5, Loss: 0.9125158786773682\n",
            "Epoch 4/5, Loss: 0.8314177393913269\n",
            "Epoch 5/5, Loss: 0.9430887699127197\n",
            "Validation Loss: 1.1435436705115494, Validation Accuracy: 0.5394\n",
            "Asymmetric Training with noise level: 0.8\n",
            "Epoch 1/5, Loss: 1.2077199220657349\n",
            "Epoch 2/5, Loss: 1.123086929321289\n",
            "Epoch 3/5, Loss: 0.8528462648391724\n",
            "Epoch 4/5, Loss: 0.9869452118873596\n",
            "Epoch 5/5, Loss: 0.9469321966171265\n",
            "Validation Loss: 1.3520483678313577, Validation Accuracy: 0.4545\n",
            "Asymmetric Training with noise level: 0.9\n",
            "Epoch 1/5, Loss: 1.0520929098129272\n",
            "Epoch 2/5, Loss: 0.8389816284179688\n",
            "Epoch 3/5, Loss: 0.8570188879966736\n",
            "Epoch 4/5, Loss: 0.6321858763694763\n",
            "Epoch 5/5, Loss: 0.5614811778068542\n",
            "Validation Loss: 1.6428276968609756, Validation Accuracy: 0.4398\n"
          ]
        }
      ]
    },
    {
      "cell_type": "code",
      "source": [
        "# testing\n",
        "for key, model_state_info in model_dict.items():\n",
        "\n",
        "    model = BaselineModel()\n",
        "    model_state = model.state_dict()\n",
        "    model_state.update({k: v for k, v in model_state_info['state_dict'].items() if k in model_state})\n",
        "\n",
        "    # load the updated state_dict\n",
        "    model.load_state_dict(model_state)\n",
        "\n",
        "    model = model.to(device)\n",
        "    model.eval()\n",
        "\n",
        "    correct = 0\n",
        "    total = 0\n",
        "\n",
        "    with torch.no_grad():\n",
        "        for inputs, labels in val_loader:\n",
        "            inputs, labels = inputs.to(device), labels.to(device)\n",
        "            outputs = model(inputs)\n",
        "            _, predicted = torch.max(outputs.data, 1)\n",
        "            total += labels.size(0)\n",
        "            correct += (predicted == labels).sum().item()\n",
        "\n",
        "    accuracy = correct / total\n",
        "    print(f'Test Accuracy for {key}: {accuracy}')"
      ],
      "metadata": {
        "colab": {
          "base_uri": "https://localhost:8080/"
        },
        "id": "_nb4dLto0wU3",
        "outputId": "79d3c901-5263-488b-a637-b5bc73d07b6e"
      },
      "execution_count": null,
      "outputs": [
        {
          "output_type": "stream",
          "name": "stdout",
          "text": [
            "Test Accuracy for noise_level_10_asy: 0.7022\n",
            "Test Accuracy for noise_level_30_asy: 0.6811\n",
            "Test Accuracy for noise_level_50_asy: 0.5394\n",
            "Test Accuracy for noise_level_80_asy: 0.4545\n",
            "Test Accuracy for noise_level_90_asy: 0.4398\n"
          ]
        }
      ]
    },
    {
      "cell_type": "markdown",
      "source": [
        "## **Build a Robost Model by Architecture Angle**\n",
        "\n",
        "- Approach using SCAN (Soft Cluster Assignment Network) with DivideMix\n",
        "\n",
        "- The difference from the Baseline Model\n",
        "\n",
        "1. *Semantic Clustering* Layer\n",
        "2. Separate Features through Clustering\n",
        "3. Combination of Clustering and Shared Features\n",
        "\n",
        "\n",
        "**[ Goal ]**\n",
        "\n",
        "=> Enhance robustness to labels with noise\n",
        "=> Prevent model from being overly sensitive to noise"
      ],
      "metadata": {
        "id": "amooQLW9-GMq"
      }
    },
    {
      "cell_type": "code",
      "source": [
        "class SemanticModel(nn.Module):\n",
        "    def __init__(self):\n",
        "        super(SemanticModel, self).__init__()\n",
        "\n",
        "        self.features = nn.Sequential(\n",
        "            nn.Conv2d(3, 8, kernel_size=3, padding=1),\n",
        "            nn.ReLU(inplace=True),\n",
        "            nn.Conv2d(8, 16, kernel_size=3, padding=1),\n",
        "            nn.ReLU(inplace=True),\n",
        "            nn.MaxPool2d(kernel_size=2, stride=2),\n",
        "            nn.Conv2d(16, 32, kernel_size=3, padding=1),\n",
        "            nn.ReLU(inplace=True),\n",
        "            nn.Conv2d(32, 64, kernel_size=3, padding=1),\n",
        "            nn.ReLU(inplace=True),\n",
        "            nn.Conv2d(64, 128, kernel_size=3, padding=1),\n",
        "            nn.MaxPool2d(kernel_size=2, stride=2)\n",
        "        )\n",
        "\n",
        "        # (!new!) semantic clustering layer\n",
        "        self.cluster_layer = nn.Sequential(\n",
        "            nn.Conv2d(128, num_clusters, kernel_size=1),\n",
        "            nn.AdaptiveAvgPool2d(1)\n",
        "        )\n",
        "\n",
        "        # fc layers\n",
        "        self.fc_layers = nn.Sequential(\n",
        "            nn.Linear(128 * num_clusters, 120),\n",
        "            nn.ReLU(inplace=True),\n",
        "            nn.Linear(120, 84),\n",
        "            nn.ReLU(inplace=True),\n",
        "            nn.Linear(84, 10)\n",
        "        )\n",
        "\n",
        "    def forward(self, x):\n",
        "        # shared feature extractor\n",
        "        x_shared = self.features(x)\n",
        "\n",
        "        # semantic clustering layer\n",
        "        x_cluster = self.cluster_layer(x_shared)\n",
        "        x_cluster = torch.flatten(x_cluster, 1)\n",
        "\n",
        "        # fc layer\n",
        "        x_shared = torch.flatten(x_shared, 1)\n",
        "        x_combined = torch.cat((x_shared, x_cluster), dim=1)\n",
        "\n",
        "        x = self.fc_layers(x_combined)\n",
        "        return x"
      ],
      "metadata": {
        "id": "3vtFwVUy-Lhd"
      },
      "execution_count": null,
      "outputs": []
    },
    {
      "cell_type": "code",
      "source": [],
      "metadata": {
        "id": "H4UyopAs-MDY"
      },
      "execution_count": null,
      "outputs": []
    },
    {
      "cell_type": "code",
      "source": [],
      "metadata": {
        "id": "cld4cbTx-MFg"
      },
      "execution_count": null,
      "outputs": []
    },
    {
      "cell_type": "code",
      "source": [],
      "metadata": {
        "id": "xSxG0hml-MHm"
      },
      "execution_count": null,
      "outputs": []
    }
  ]
}